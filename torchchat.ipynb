{
  "nbformat": 4,
  "nbformat_minor": 0,
  "metadata": {
    "colab": {
      "name": "torchchat.ipynb",
      "provenance": [],
      "collapsed_sections": [],
      "authorship_tag": "ABX9TyMXREybkr7JOjfpGYaaakws",
      "include_colab_link": true
    },
    "kernelspec": {
      "name": "python3",
      "display_name": "Python 3"
    }
  },
  "cells": [
    {
      "cell_type": "markdown",
      "metadata": {
        "id": "view-in-github",
        "colab_type": "text"
      },
      "source": [
        "<a href=\"https://colab.research.google.com/github/Loco-c/Chatbot/blob/main/torchchat.ipynb\" target=\"_parent\"><img src=\"https://colab.research.google.com/assets/colab-badge.svg\" alt=\"Open In Colab\"/></a>"
      ]
    },
    {
      "cell_type": "code",
      "metadata": {
        "id": "jvA9MRZeDeun"
      },
      "source": [
        "from __future__ import absolute_import\n",
        "from __future__ import division\n",
        "from __future__ import print_function\n",
        "from __future__ import unicode_literals\n",
        "\n",
        "import torch\n",
        "from torch.jit import script,trace \n",
        "import torch.nn as nn \n",
        "from torch import optim\n",
        "import torch.nn.functional as F\n",
        "\n",
        "\n",
        "#Calling the GPU\n",
        "USE_CUDA = torch.cuda.is_available()\n",
        "device = torch.device(\"cuda\" if USE_CUDA else \"cpu\")\n",
        "\n",
        "from google.colab import drive\n",
        "drive.mount('/content/drive')\n"
      ],
      "execution_count": null,
      "outputs": []
    },
    {
      "cell_type": "code",
      "metadata": {
        "id": "iuVOq9y0ouSq"
      },
      "source": [
        "# File opener\n"
      ],
      "execution_count": null,
      "outputs": []
    },
    {
      "cell_type": "code",
      "metadata": {
        "id": "e5pBlVP7D-MS"
      },
      "source": [
        "# word processing\n",
        "\"\"\"\n",
        "methods need;\n",
        "\n",
        ".spilt()\n",
        "list \n",
        "dictionaries\n",
        "boolean\n",
        "conert strings to lists\n",
        "lists to dictionaries \n",
        "       \n",
        "\"'\""
      ],
      "execution_count": null,
      "outputs": []
    },
    {
      "cell_type": "code",
      "metadata": {
        "id": "3G2iTJF8EMs7"
      },
      "source": [
        ""
      ],
      "execution_count": null,
      "outputs": []
    },
    {
      "cell_type": "code",
      "metadata": {
        "id": "p5N6YG-WKVNK"
      },
      "source": [
        "# encodeder \n",
        "# RNN\n"
      ],
      "execution_count": null,
      "outputs": []
    },
    {
      "cell_type": "code",
      "metadata": {
        "id": "KTz8VaqZKqz1"
      },
      "source": [
        ""
      ],
      "execution_count": null,
      "outputs": []
    },
    {
      "cell_type": "code",
      "metadata": {
        "id": "xoF71cj4K0Ub"
      },
      "source": [
        "        "
      ],
      "execution_count": null,
      "outputs": []
    },
    {
      "cell_type": "code",
      "metadata": {
        "id": "9DdsDhjLLo2B"
      },
      "source": [
        "# evaluation      "
      ],
      "execution_count": null,
      "outputs": []
    },
    {
      "cell_type": "code",
      "metadata": {
        "id": "Dryqr_XzEUIj"
      },
      "source": [
        "# prediction"
      ],
      "execution_count": null,
      "outputs": []
    },
    {
      "cell_type": "code",
      "metadata": {
        "id": "6_yQGRF8EYt3"
      },
      "source": [
        "# bleu score\n"
      ],
      "execution_count": null,
      "outputs": []
    }
  ]
}